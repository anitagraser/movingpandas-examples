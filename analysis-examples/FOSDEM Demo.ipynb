{
 "cells": [
  {
   "cell_type": "markdown",
   "metadata": {},
   "source": [
    "# FOSDEM Demo\n",
    "\n",
    "This notebook presents a systematic movement data exploration protocol. "
   ]
  },
  {
   "cell_type": "markdown",
   "metadata": {},
   "source": [
    "## Setup"
   ]
  },
  {
   "cell_type": "code",
   "execution_count": null,
   "metadata": {},
   "outputs": [],
   "source": [
    "from IPython.core.display import display, HTML\n",
    "display(HTML(\"<style>.container { width:100% !important; }</style>\"))\n",
    "\n",
    "import warnings\n",
    "warnings.filterwarnings('ignore')"
   ]
  },
  {
   "cell_type": "code",
   "execution_count": null,
   "metadata": {},
   "outputs": [],
   "source": [
    "FIGSIZE = (600,400)\n",
    "SMSIZE = 300\n",
    "COLOR = 'darkblue'\n",
    "COLOR_HIGHLIGHT = 'red'\n",
    "COLOR_BASE = 'grey'"
   ]
  },
  {
   "cell_type": "code",
   "execution_count": null,
   "metadata": {},
   "outputs": [],
   "source": [
    "from math import sin, cos, atan2, radians, degrees, sqrt, pi\n",
    "from datetime import datetime, date\n",
    "import numpy as np\n",
    "import pandas as pd\n",
    "import geopandas as gpd\n",
    "import movingpandas as mpd\n",
    "import datashader as ds\n",
    "import holoviews as hv\n",
    "from shapely.geometry import Point, LineString\n",
    "from holoviews.operation.datashader import datashade, spread\n",
    "from holoviews.element import tiles\n",
    "from holoviews import opts, dim \n",
    "import hvplot\n",
    "import movingpandas as mp\n",
    "from shapely.geometry import Point\n",
    "\n",
    "R_EARTH = 6371000  # radius of earth in meters\n",
    "C_EARTH = 2 * R_EARTH * pi  # circumference\n",
    "BG_TILES = tiles.CartoLight()\n",
    "\n",
    "pd.set_option('use_inf_as_na', True)"
   ]
  },
  {
   "cell_type": "code",
   "execution_count": null,
   "metadata": {},
   "outputs": [],
   "source": [
    "def plot_single_mover(df, mover_id, the_date):\n",
    "    tmp = df[(df.id==mover_id) & (df.index.date==the_date)]\n",
    "    gdf = gpd.GeoDataFrame(tmp.drop(['x', 'y'], axis=1), crs={'init': 'epsg:3857'}, geometry=[Point(xy) for xy in zip(tmp.x, tmp.y)])\n",
    "    plot = mp.Trajectory(gdf, 1).hvplot(title=f'Mover {mover_id} ({the_date})', c='speed_m/s', cmap='RdYlBu',  colorbar=True, clim=(0,15), \n",
    "                                        line_width=5, width=FIGSIZE[0], height=FIGSIZE[1], tiles='CartoLight')\n",
    "    return plot"
   ]
  },
  {
   "cell_type": "code",
   "execution_count": null,
   "metadata": {},
   "outputs": [],
   "source": [
    "input_files = [\n",
    "    'E:/Geodata/AISDK/raw_ais/aisdk_20170701.csv',\n",
    "    'E:/Geodata/AISDK/raw_ais/aisdk_20170702.csv'\n",
    "]"
   ]
  },
  {
   "cell_type": "code",
   "execution_count": null,
   "metadata": {},
   "outputs": [],
   "source": [
    "df = pd.read_csv(input_files[0], nrows=100)\n",
    "df.head()"
   ]
  },
  {
   "cell_type": "code",
   "execution_count": null,
   "metadata": {},
   "outputs": [],
   "source": [
    "df['SOG'].hist(bins=100, figsize=(15,3))"
   ]
  },
  {
   "cell_type": "code",
   "execution_count": null,
   "metadata": {},
   "outputs": [],
   "source": [
    "df = None\n",
    "for input_file in input_files[:2]: \n",
    "    a = pd.read_csv(input_file, usecols=['# Timestamp', 'MMSI', 'Latitude', 'Longitude', 'SOG', 'Type of mobile', 'Ship type', 'Navigational status'])\n",
    "    a = a[(a['Type of mobile'] == 'Class A') & (a.SOG>0)]\n",
    "    a.drop(columns=['Type of mobile', 'SOG'], inplace=True)\n",
    "    if df is None:\n",
    "        df = a\n",
    "    else:\n",
    "        df = df.append(a)\n",
    "    \n",
    "df.rename(columns={'# Timestamp':'time', 'MMSI':'id', 'Latitude':'lat', 'Longitude':'lon', 'Ship type':'shiptype', 'Navigational status':'navstat'}, inplace=True)\n",
    "df['time'] = pd.to_datetime(df['time'], format='%d/%m/%Y %H:%M:%S')\n",
    "\n",
    "df.loc[:, 'x'], df.loc[:, 'y'] = ds.utils.lnglat_to_meters(df.lon, df.lat)\n",
    "\n",
    "df.set_index('time', inplace=True)\n",
    "\n",
    "df['navstat'] = df['navstat'].astype('category')\n",
    "df['shiptype'] = df['shiptype'].astype('category')\n",
    "\n",
    "df.head()"
   ]
  },
  {
   "cell_type": "code",
   "execution_count": null,
   "metadata": {},
   "outputs": [],
   "source": [
    "print('Number of records: {} million'.format(round(len(df)/1000000)))"
   ]
  },
  {
   "cell_type": "markdown",
   "metadata": {},
   "source": [
    "## A) Missing data\n",
    "\n",
    "\n",
    "### A-1) Spatial gaps & outliers"
   ]
  },
  {
   "cell_type": "markdown",
   "metadata": {},
   "source": [
    "#### Spatial spread / extent & outliers \n"
   ]
  },
  {
   "cell_type": "code",
   "execution_count": null,
   "metadata": {},
   "outputs": [],
   "source": [
    "print(f'Spatial extent: x_min={df.lon.min()}, x_max={df.lon.max()}, y_min={df.lat.min()}, y_max={df.lat.max()}')"
   ]
  },
  {
   "cell_type": "code",
   "execution_count": null,
   "metadata": {},
   "outputs": [],
   "source": [
    "def plot_basic_scatter(df, color='darkblue', title='', width=FIGSIZE[0], height=FIGSIZE[1], size=2):\n",
    "    opts.defaults(opts.Overlay(active_tools=['wheel_zoom']))\n",
    "    pts = df.hvplot.scatter(x='x', y='y', datashade=True, cmap=[color, color], frame_width=width, frame_height=height, title=str(title))\n",
    "    return BG_TILES * spread(pts, px=size)"
   ]
  },
  {
   "cell_type": "code",
   "execution_count": null,
   "metadata": {},
   "outputs": [],
   "source": [
    "plot_basic_scatter(df, title='Spatial extent & outliers')"
   ]
  },
  {
   "cell_type": "markdown",
   "metadata": {},
   "source": [
    "**Optional cropping of outliers**"
   ]
  },
  {
   "cell_type": "code",
   "execution_count": null,
   "metadata": {},
   "outputs": [],
   "source": [
    "df = df[(df.lon>-90) & (df.lon<90) & (df.lat>0) & (df.lat<80)]"
   ]
  },
  {
   "cell_type": "code",
   "execution_count": null,
   "metadata": {},
   "outputs": [],
   "source": [
    "cropped_df = df[(df.lon>0) & (df.lon<20) & (df.lat>52) & (df.lat<60)]\n",
    "cropped_df['navstat'] = cropped_df['navstat'].astype('category')\n",
    "cropped_df['shiptype'] = cropped_df['shiptype'].astype('category')\n",
    "plot_basic_scatter(cropped_df)"
   ]
  },
  {
   "cell_type": "markdown",
   "metadata": {},
   "source": [
    "#### Spatial gaps (selected areas / all movers / whole time span)\n",
    "\n"
   ]
  },
  {
   "cell_type": "code",
   "execution_count": null,
   "metadata": {},
   "outputs": [],
   "source": [
    "def plot_point_density(df, title='', width=FIGSIZE[0], height=FIGSIZE[1]):\n",
    "    opts.defaults(opts.Overlay(active_tools=['wheel_zoom']))\n",
    "    pts = df.hvplot.scatter(x='x', y='y', title=str(title), datashade=True, frame_width=width, frame_height=height)\n",
    "    return BG_TILES * pts"
   ]
  },
  {
   "cell_type": "code",
   "execution_count": null,
   "metadata": {},
   "outputs": [],
   "source": [
    "plot_point_density(df, title='Spatial gaps')"
   ]
  },
  {
   "cell_type": "markdown",
   "metadata": {},
   "source": [
    "### A-2) Temporal gaps & outliers\n",
    "\n",
    "#### Temporal extent & outliers (whole territory / all movers / whole time span)\n",
    "\n"
   ]
  },
  {
   "cell_type": "code",
   "execution_count": null,
   "metadata": {},
   "outputs": [],
   "source": [
    "print(f'Temporal extent: {df.index.min()} to {df.index.max()}')"
   ]
  },
  {
   "cell_type": "code",
   "execution_count": null,
   "metadata": {},
   "outputs": [],
   "source": [
    "TIME_SAMPLE = '15min'\n",
    "\n",
    "df['id'].resample(TIME_SAMPLE).count()\\\n",
    "    .hvplot(title=f'Number of records per {TIME_SAMPLE}', width=FIGSIZE[0])"
   ]
  },
  {
   "cell_type": "markdown",
   "metadata": {},
   "source": [
    "#### Temporal gaps in linear sequence & temporal cycles (whole territory / all movers / time spans)\n"
   ]
  },
  {
   "cell_type": "code",
   "execution_count": null,
   "metadata": {},
   "outputs": [],
   "source": [
    "counts_df = df['id'].groupby([df.index.hour, pd.Grouper(freq='d')]).count().to_frame(name='n')\n",
    "counts_df.rename_axis(['hour', 'day'], inplace=True)\n",
    "counts_df.hvplot.heatmap(title='Record count', x='hour', y='day', C='n', width=FIGSIZE[0])"
   ]
  },
  {
   "cell_type": "markdown",
   "metadata": {},
   "source": [
    "### A-3) Spatiotemporal changes / gaps\n",
    "\n",
    "#### Changing extent\n",
    "\n"
   ]
  },
  {
   "cell_type": "code",
   "execution_count": null,
   "metadata": {},
   "outputs": [],
   "source": [
    "def plot_multiple_by_day(df, day, **kwargs):\n",
    "    return plot_basic_scatter(df[df.index.date==day], title=day, width=SMSIZE, height=SMSIZE, **kwargs)\n",
    "    \n",
    "def plot_multiples_by_day(df, **kwargs):\n",
    "    days = df.index.to_period('D').unique()\n",
    "    a = None\n",
    "    for a_day in days:\n",
    "        a_day = a_day.to_timestamp().date()\n",
    "        plot = plot_multiple_by_day(df, a_day, **kwargs)\n",
    "        if a is None: a = plot\n",
    "        else: a = a  + plot\n",
    "    return a"
   ]
  },
  {
   "cell_type": "code",
   "execution_count": null,
   "metadata": {
    "scrolled": false
   },
   "outputs": [],
   "source": [
    "plot_multiples_by_day(cropped_df).cols(2)"
   ]
  },
  {
   "cell_type": "markdown",
   "metadata": {},
   "source": [
    "### A-4) Attribute gaps\n",
    "\n",
    "\n",
    "#### Spatial attribute gaps\n"
   ]
  },
  {
   "cell_type": "code",
   "execution_count": null,
   "metadata": {},
   "outputs": [],
   "source": [
    "CATEGORY = 'shiptype' #'navstat'\n",
    "\n",
    "cats = df[CATEGORY].unique()\n",
    "#[cat for cat in cats]"
   ]
  },
  {
   "cell_type": "code",
   "execution_count": null,
   "metadata": {},
   "outputs": [],
   "source": [
    "cmap = {} \n",
    "for cat in cats:\n",
    "    cmap[cat] = COLOR_BASE\n",
    "cmap['Unknown value'] = COLOR_HIGHLIGHT\n",
    "cmap['Undefined'] = COLOR_HIGHLIGHT"
   ]
  },
  {
   "cell_type": "code",
   "execution_count": null,
   "metadata": {},
   "outputs": [],
   "source": [
    "def plot_categorized_scatter(df, cat, title='', width=SMSIZE, height=SMSIZE, cmap=cmap):\n",
    "    opts.defaults(opts.Overlay(active_tools=['wheel_zoom']))\n",
    "    pts = df.hvplot.scatter(x='x', y='y', datashade=True, by=cat, colormap=cmap, legend=True, frame_width=width, frame_height=height, title=str(title))\n",
    "    return BG_TILES * pts"
   ]
  },
  {
   "cell_type": "code",
   "execution_count": null,
   "metadata": {
    "scrolled": false
   },
   "outputs": [],
   "source": [
    "unknown = df[(df[CATEGORY]=='Unknown value') | (df[CATEGORY]=='Undefined')]\n",
    "known = df[(df[CATEGORY]!='Unknown value') & (df[CATEGORY]!='Undefined')]\n",
    "\n",
    "( plot_categorized_scatter(df, CATEGORY, title='Categorized', width=SMSIZE, height=SMSIZE, cmap=cmap) + \n",
    "  plot_basic_scatter(unknown, COLOR_HIGHLIGHT, title=f'Unknown {CATEGORY} only', width=SMSIZE, height=SMSIZE, size=1) +\n",
    "  plot_basic_scatter(known, COLOR_BASE, title=f'Known {CATEGORY} only', width=SMSIZE, height=SMSIZE, size=1)\n",
    ")"
   ]
  },
  {
   "cell_type": "markdown",
   "metadata": {},
   "source": [
    "### DATA PREPARATION: Computing segment information"
   ]
  },
  {
   "cell_type": "code",
   "execution_count": null,
   "metadata": {},
   "outputs": [],
   "source": [
    "def time_difference(row):\n",
    "    t1 = row['prev_t']\n",
    "    t2 = row['t']\n",
    "    return (t2-t1).total_seconds()\n",
    "\n",
    "def speed_difference(row):\n",
    "    return row['speed_m/s'] - row['prev_speed']\n",
    "\n",
    "def acceleration(row):\n",
    "    if row['diff_t_s'] == 0:\n",
    "        return None\n",
    "    return row['diff_speed'] / row['diff_t_s']\n",
    "\n",
    "def spherical_distance(lon1, lat1, lon2, lat2):\n",
    "    delta_lat = radians(lat2 - lat1)\n",
    "    delta_lon = radians(lon2 - lon1)\n",
    "    a = sin(delta_lat/2) * sin(delta_lat/2) + cos(radians(lat1)) * cos(radians(lat2)) * sin(delta_lon/2) * sin(delta_lon/2)\n",
    "    c = 2 * atan2(sqrt(a), sqrt(1 - a))\n",
    "    dist = R_EARTH * c\n",
    "    return dist\n",
    "\n",
    "def distance_to_prev(row):\n",
    "    return spherical_distance(row['prev_lon'], row['prev_lat'], row['lon'], row['lat'])\n",
    "    \n",
    "def distance_to_next(row):\n",
    "    return spherical_distance(row['next_lon'], row['next_lat'], row['lon'], row['lat'])\n",
    "\n",
    "def direction(row):\n",
    "    lon1, lat1, lon2, lat2 = row['prev_lon'], row['prev_lat'], row['lon'], row['lat']\n",
    "    lat1 = radians(lat1)\n",
    "    lat2 = radians(lat2)\n",
    "    delta_lon = radians(lon2 - lon1)\n",
    "    x = sin(delta_lon) * cos(lat2)\n",
    "    y = cos(lat1) * sin(lat2) - (sin(lat1) * cos(lat2) * cos(delta_lon))\n",
    "    initial_bearing = atan2(x, y)\n",
    "    initial_bearing = degrees(initial_bearing)\n",
    "    compass_bearing = (initial_bearing + 360) % 360\n",
    "    return compass_bearing\n",
    "\n",
    "def angular_difference(row):\n",
    "    diff = abs(row['prev_dir'] - row['dir'])\n",
    "    if diff > 180:\n",
    "        diff = abs(diff - 360)\n",
    "    return diff \n",
    "\n",
    "def compute_segment_info(df):\n",
    "    df = df.copy()\n",
    "    df['t'] = df.index\n",
    "    df['prev_t'] = df.groupby('id')['t'].shift()\n",
    "    df['diff_t_s'] = df.apply(time_difference, axis=1)\n",
    "    df['prev_lon'] = df.groupby('id')['lon'].shift()\n",
    "    df['prev_lat'] = df.groupby('id')['lat'].shift()\n",
    "    df['prev_x'] = df.groupby('id')['x'].shift()\n",
    "    df['prev_y'] = df.groupby('id')['y'].shift()\n",
    "    df['diff_x'] = df['x'] - df['prev_x']\n",
    "    df['diff_y'] = df['y'] - df['prev_y']\n",
    "    df['next_lon'] = df.groupby('id')['lon'].shift(-1)\n",
    "    df['next_lat'] = df.groupby('id')['lat'].shift(-1)\n",
    "    df['dist_prev_m'] = df.apply(distance_to_prev, axis=1)\n",
    "    df['dist_next_m'] = df.apply(distance_to_next, axis=1)\n",
    "    df['speed_m/s'] = df['dist_prev_m']/df['diff_t_s']\n",
    "    df['prev_speed'] = df.groupby('id')['speed_m/s'].shift()\n",
    "    df['diff_speed'] = df.apply(speed_difference, axis=1)\n",
    "    df['acceleration'] = df.apply(acceleration, axis=1)\n",
    "    df['dir'] = df.apply(direction, axis=1)\n",
    "    df['prev_dir'] = df.groupby('id')['dir'].shift()\n",
    "    df['diff_dir'] = df.apply(angular_difference, axis=1)\n",
    "    df = df.drop(columns=['prev_x', 'prev_y', 'next_lon', 'next_lat', 'prev_speed', 'prev_dir'])\n",
    "    return df"
   ]
  },
  {
   "cell_type": "code",
   "execution_count": null,
   "metadata": {},
   "outputs": [],
   "source": [
    "%%time\n",
    "\n",
    "try:\n",
    "    segment_df = pd.read_pickle('./segments.pkl')\n",
    "except:\n",
    "    segment_df = compute_segment_info(cropped_df)\n",
    "    segment_df.to_pickle(\"./segments.pkl\")"
   ]
  },
  {
   "cell_type": "markdown",
   "metadata": {},
   "source": [
    "### A-5) Gaps in trajectories"
   ]
  },
  {
   "cell_type": "code",
   "execution_count": null,
   "metadata": {},
   "outputs": [],
   "source": [
    "GAP_MIN = 10000\n",
    "GAP_MAX = 100000\n",
    "\n",
    "segment_df['is_gap'] = ( (segment_df['dist_prev_m']>GAP_MIN) & (segment_df['dist_prev_m']<GAP_MAX) ) | ( (segment_df['dist_next_m']>GAP_MIN) & (segment_df['dist_next_m']<GAP_MAX) ) \n",
    "segment_df['id_by_gap'] = segment_df.groupby(\"id\")['is_gap'].transform(lambda x: x.ne(x.shift()).cumsum())"
   ]
  },
  {
   "cell_type": "code",
   "execution_count": null,
   "metadata": {},
   "outputs": [],
   "source": [
    "grouped = [df[['x','y']] for name, df in segment_df[segment_df.is_gap].groupby(['id', 'id_by_gap']) ]\n",
    "path = hv.Path(grouped, kdims=['x','y'])\n",
    "plot = datashade(path, cmap=COLOR_HIGHLIGHT).opts(frame_height=300, frame_width=300)\n",
    "BG_TILES * plot"
   ]
  },
  {
   "cell_type": "code",
   "execution_count": null,
   "metadata": {},
   "outputs": [],
   "source": [
    "segment_df.hvplot.scatter(title='Coordinate change plot', x='diff_x', y='diff_y', datashade=True, \n",
    "                          xlim=(-1000,1000), ylim=(-1000,1000), frame_width=FIGSIZE[1], frame_height=FIGSIZE[1])"
   ]
  },
  {
   "cell_type": "code",
   "execution_count": null,
   "metadata": {},
   "outputs": [],
   "source": [
    "MINIMUM_NUMBER_OF_RECORDS = 100\n",
    "MINIMUM_SPEED_MS = 1\n",
    "\n",
    "def reset_values_at_daybreaks(tmp, columns):\n",
    "    tmp['ix'] = tmp.index\n",
    "    tmp['zero'] = 0\n",
    "    ix_first = tmp.groupby(['id', pd.Grouper(freq='d')]).first()['ix']\n",
    "    for col in columns:\n",
    "        tmp[col] = tmp['zero'].where(tmp['ix'].isin(ix_first), tmp[col])\n",
    "    tmp = tmp.drop(columns=['zero', 'ix'])\n",
    "    return tmp\n",
    "\n",
    "def compute_traj_info(segment_df):\n",
    "    tmp = segment_df.copy()\n",
    "    tmp['acceleration_abs'] = np.abs(tmp['acceleration'])\n",
    "    tmp['diff_speed_abs'] = np.abs(tmp['diff_speed'])\n",
    "    tmp = tmp.replace([np.inf, -np.inf], np.nan)\n",
    "\n",
    "    tmp = reset_values_at_daybreaks(tmp, ['diff_t_s','dist_prev_m','diff_speed_abs','acceleration_abs'])\n",
    "\n",
    "    traj_df = tmp.groupby(['id', pd.Grouper(freq='d')]) \\\n",
    "        .agg({'diff_t_s':['median', 'sum'], \n",
    "              'speed_m/s':['median','std'],\n",
    "              'diff_dir':['median','std'], \n",
    "              'dist_prev_m':['median', 'sum'], \n",
    "              'diff_speed_abs':['max'], \n",
    "              'acceleration_abs':['median','max','mean','std'], \n",
    "              't':['min','count'],\n",
    "             'shiptype':lambda x:x.value_counts().index[0]}) \n",
    "\n",
    "    traj_df.columns = [\"_\".join(x) for x in traj_df.columns.ravel()]\n",
    "    traj_df = traj_df.rename(columns={'t_count':'n', 'shiptype_<lambda>':'shiptype', \n",
    "                                      'diff_t_s_sum':'duration_s', 'dist_prev_m_sum':'length_m'})\n",
    "    traj_df['length_km'] = traj_df['length_m'] / 1000\n",
    "    traj_df['duration_h'] = traj_df['duration_s'] / 3600\n",
    "    traj_df['t_min_h'] = traj_df['t_min'].dt.hour + traj_df['t_min'].dt.minute / 60\n",
    "\n",
    "    traj_df = traj_df[traj_df.n>=MINIMUM_NUMBER_OF_RECORDS]\n",
    "    traj_df = traj_df[traj_df['speed_m/s_median']>=MINIMUM_SPEED_MS]\n",
    "    return traj_df"
   ]
  },
  {
   "cell_type": "code",
   "execution_count": null,
   "metadata": {},
   "outputs": [],
   "source": [
    "%%time\n",
    "\n",
    "try:\n",
    "    traj_df = pd.read_pickle('./traj.pkl')\n",
    "except:\n",
    "    traj_df = compute_traj_info(segment_df)\n",
    "    traj_df.to_pickle(\"./traj.pkl\")"
   ]
  },
  {
   "cell_type": "code",
   "execution_count": null,
   "metadata": {},
   "outputs": [],
   "source": [
    "hvplot.scatter_matrix(\n",
    "    traj_df[['length_km', 'speed_m/s_median', 'duration_h', 'diff_dir_median']]\n",
    ")"
   ]
  },
  {
   "cell_type": "markdown",
   "metadata": {},
   "source": [
    "### D-2) Spatial inaccuracy \n",
    "\n",
    "\n",
    "#### Outliers with unrealistic jumps\n",
    "\n",
    "\n"
   ]
  },
  {
   "cell_type": "code",
   "execution_count": null,
   "metadata": {},
   "outputs": [],
   "source": [
    "segment_df['speed_m/s'].hvplot.hist(\n",
    "    title='Histogram of speed between consecutive records', bins=100, frame_width=FIGSIZE[1], frame_height=250\n",
    ") + segment_df.sort_values(by='speed_m/s', ascending=False)[:10][['id', 'speed_m/s']].hvplot.table(\n",
    "    title='Top 10 records - speed', frame_width=FIGSIZE[1])"
   ]
  },
  {
   "cell_type": "code",
   "execution_count": null,
   "metadata": {},
   "outputs": [],
   "source": [
    "plot_single_mover(segment_df, 218057000, date(2018,1,1))"
   ]
  },
  {
   "cell_type": "markdown",
   "metadata": {},
   "source": [
    "#### Jitter / noise\n",
    "\n"
   ]
  },
  {
   "cell_type": "code",
   "execution_count": null,
   "metadata": {},
   "outputs": [],
   "source": [
    "traj_df.hvplot.scatter(\n",
    "    title='Direction difference median over standard deviation', alpha=0.3,\n",
    "    x='diff_dir_median', y='diff_dir_std', hover_cols=['id','time'], #datashade=True,\n",
    "    frame_width=FIGSIZE[1], frame_height=250, ylim=(-10,100)\n",
    ") + traj_df.sort_values(by='diff_dir_median', ascending=False)[:10][['diff_dir_median','diff_dir_std']].hvplot.table(\n",
    "    title='Top 10 trajectories - direction difference', frame_width=FIGSIZE[1])"
   ]
  },
  {
   "cell_type": "code",
   "execution_count": null,
   "metadata": {},
   "outputs": [],
   "source": [
    "plot_single_mover(segment_df, 220614000, date(2018,1,1))"
   ]
  },
  {
   "cell_type": "code",
   "execution_count": null,
   "metadata": {},
   "outputs": [],
   "source": []
  }
 ],
 "metadata": {
  "kernelspec": {
   "display_name": "Python 3",
   "language": "python",
   "name": "python3"
  },
  "language_info": {
   "codemirror_mode": {
    "name": "ipython",
    "version": 3
   },
   "file_extension": ".py",
   "mimetype": "text/x-python",
   "name": "python",
   "nbconvert_exporter": "python",
   "pygments_lexer": "ipython3",
   "version": "3.7.8"
  }
 },
 "nbformat": 4,
 "nbformat_minor": 4
}
