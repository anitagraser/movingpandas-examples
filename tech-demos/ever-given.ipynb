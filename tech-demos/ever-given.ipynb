{
 "cells": [
  {
   "cell_type": "markdown",
   "metadata": {},
   "source": [
    "# Ever Given\n",
    "\n",
    "<img align=\"right\" src=\"https://anitagraser.github.io/movingpandas/pics/movingpandas.png\">\n",
    "\n",
    "This notebook presents an analysis of the vessel situation following the grounding of Ever Given in the Suez Canal.\n",
    "\n",
    "\n",
    "The dataset used covers the time span between 2021-03-20 00:00 and 2021-03-24 12:52 UTC.\n",
    " \n",
    "This data has generously been provided by VesselsValue.\n",
    "\n",
    "\n",
    "<img align=\"left\" src=\"images/Ever-Given-Suez.jpg\">\n"
   ]
  },
  {
   "cell_type": "code",
   "execution_count": null,
   "metadata": {},
   "outputs": [],
   "source": [
    "%matplotlib inline"
   ]
  },
  {
   "cell_type": "code",
   "execution_count": null,
   "metadata": {},
   "outputs": [],
   "source": [
    "from IPython.core.display import display, HTML\n",
    "display(HTML(\"<style>.container { width:100% !important; }</style>\"))"
   ]
  },
  {
   "cell_type": "code",
   "execution_count": null,
   "metadata": {},
   "outputs": [],
   "source": [
    "import pandas as pd\n",
    "import geopandas as gpd\n",
    "import movingpandas as mpd\n",
    "from geopandas import GeoDataFrame, read_file\n",
    "from shapely.geometry import Point, LineString, Polygon\n",
    "from datetime import datetime, timedelta\n",
    "\n",
    "from holoviews import opts, dim\n",
    "from holoviews.selection import link_selections\n",
    "\n",
    "import warnings\n",
    "warnings.simplefilter(\"ignore\")"
   ]
  },
  {
   "cell_type": "code",
   "execution_count": null,
   "metadata": {},
   "outputs": [],
   "source": [
    "EVERID = 235"
   ]
  },
  {
   "cell_type": "code",
   "execution_count": null,
   "metadata": {},
   "outputs": [],
   "source": [
    "df = pd.read_csv('E:/Geodata/VesselsValue/boat-positions.csv')\n",
    "df['t'] = pd.to_datetime(df['ais_pos_timestamp'], format='%d/%m/%Y %H:%M')\n",
    "df = df.set_index('t').tz_localize(None)\n",
    "df"
   ]
  },
  {
   "cell_type": "code",
   "execution_count": null,
   "metadata": {},
   "outputs": [],
   "source": [
    "gdf = gpd.GeoDataFrame(df.drop(['longitude', 'latitude', 'ais_pos_timestamp'], axis=1), \n",
    "                       crs='epsg:4326', geometry=[Point(xy) for xy in zip(df.longitude, df.latitude)])\n",
    "gdf"
   ]
  },
  {
   "cell_type": "code",
   "execution_count": null,
   "metadata": {},
   "outputs": [],
   "source": [
    "gdf.hvplot(geo=True, tiles='OSM', width=500, height=500)"
   ]
  },
  {
   "cell_type": "code",
   "execution_count": null,
   "metadata": {},
   "outputs": [],
   "source": [
    "trajs = mpd.TrajectoryCollection(gdf, 'ID')"
   ]
  },
  {
   "cell_type": "code",
   "execution_count": null,
   "metadata": {},
   "outputs": [],
   "source": [
    "evergiven = trajs.get_trajectory(EVERID)\n",
    "evergiven.hvplot(line_width=7, width=500, height=500)"
   ]
  },
  {
   "cell_type": "code",
   "execution_count": null,
   "metadata": {},
   "outputs": [],
   "source": [
    "stops = mpd.TrajectoryStopDetector(trajs).get_stop_segments(min_duration=timedelta(hours=3), max_diameter=1000)"
   ]
  },
  {
   "cell_type": "code",
   "execution_count": null,
   "metadata": {},
   "outputs": [],
   "source": [
    "stop_pts = gpd.GeoDataFrame(columns=['geometry']).set_geometry('geometry')\n",
    "stop_pts['stop_id'] = [track.id for track in stops.trajectories]\n",
    "stop_pts= stop_pts.set_index('stop_id')\n",
    "\n",
    "for stop in stops:\n",
    "    stop_pts.at[stop.id, 'ID']         = stop.df['ID'][0]\n",
    "    stop_pts.at[stop.id, 'datetime']   = stop.get_start_time()\n",
    "    stop_pts.at[stop.id, 'duration_h'] = stop.get_duration().total_seconds()/3600\n",
    "    stop_pts.at[stop.id, 'geometry']   = stop.get_start_location()"
   ]
  },
  {
   "cell_type": "markdown",
   "metadata": {},
   "source": [
    "## Ever Given ran aground around 7:40 local time (5:40 UTC) on 23rd March 2021"
   ]
  },
  {
   "cell_type": "code",
   "execution_count": null,
   "metadata": {},
   "outputs": [],
   "source": [
    "evergiven_stop = stops.filter('ID', [EVERID])\n",
    "t0 = evergiven_stop.trajectories[0].get_start_time()\n",
    "t0"
   ]
  },
  {
   "cell_type": "code",
   "execution_count": null,
   "metadata": {},
   "outputs": [],
   "source": [
    "plot = evergiven.hvplot(line_width=5, color='red', frame_width=500, frame_height=500, alpha=0.5)\n",
    "plot = plot * stop_pts[stop_pts['datetime']>t0].hvplot(geo=True, hover_cols=['datetime'], size=dim('duration_h')/2, alpha=0.5) \n",
    "plot = plot * stop_pts[stop_pts['ID']==EVERID].hvplot(geo=True, hover_cols=['datetime'], size=dim('duration_h')/2, color='red',\n",
    "                                                  title='Trajectory & stop location of Ever Given and stops of other vessels')\n",
    "plot2 = pd.DataFrame(stop_pts).hvplot.scatter(title='Stop start & duration (in hours)', x='datetime', y='duration_h', frame_width=500, frame_height=500) \n",
    "plot2 = plot2 * pd.DataFrame(stop_pts[stop_pts['ID']==EVERID]).hvplot.scatter(x='datetime', y='duration_h', color='red', size=200)\n",
    "link_selections(plot + plot2)"
   ]
  },
  {
   "cell_type": "markdown",
   "metadata": {},
   "source": [
    "*Data generously provided by VesselsValue.*"
   ]
  },
  {
   "cell_type": "code",
   "execution_count": null,
   "metadata": {},
   "outputs": [],
   "source": [
    "from datashader.utils import lnglat_to_meters\n",
    "from holoviews.element import tiles\n",
    "\n",
    "df = stop_pts.copy()\n",
    "df['lon'] = df.geometry.x\n",
    "df['lat'] = df.geometry.y\n",
    "df = pd.DataFrame(df)\n",
    "df.loc[:, 'x'], df.loc[:, 'y'] = lnglat_to_meters(df.lon, df.lat)\n",
    "\n",
    "plot = tiles.OSM() * df.hvplot.scatter(x='x', y='y', frame_width=500, frame_height=500, title='Trajectory & stop location of Ever Given and stops of other vessels')\n",
    "plot2 = df.hvplot.scatter(title='Stop start & duration (in hours)', x='datetime', y='duration_h', frame_width=500, frame_height=500)\n",
    "\n",
    "link_selections(plot + plot2)"
   ]
  },
  {
   "cell_type": "code",
   "execution_count": null,
   "metadata": {},
   "outputs": [],
   "source": []
  }
 ],
 "metadata": {
  "kernelspec": {
   "display_name": "Python 3",
   "language": "python",
   "name": "python3"
  },
  "language_info": {
   "codemirror_mode": {
    "name": "ipython",
    "version": 3
   },
   "file_extension": ".py",
   "mimetype": "text/x-python",
   "name": "python",
   "nbconvert_exporter": "python",
   "pygments_lexer": "ipython3",
   "version": "3.7.10"
  }
 },
 "nbformat": 4,
 "nbformat_minor": 4
}
